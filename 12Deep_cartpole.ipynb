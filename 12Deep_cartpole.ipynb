{
 "cells": [
  {
   "cell_type": "markdown",
   "id": "046183a1-3eae-4d1c-8559-b28a427d73aa",
   "metadata": {},
   "source": [
    "# Deep Q-Learning\n",
    "\n",
    "We're going to use Deep Q-Learning in order to learn a [cartpole](https://gymnasium.farama.org/environments/classic_control/cart_pole/) agent.  You'll notice the cartpole state space is continuous... Tabular Q-Learning won't work!\n",
    "\n",
    "Let's start by setting up our environment.  Run the three cells below to install gymnasium on AWS, retrieve a `.npy` file of states, import everything relevant, and see what the observations look like.\n",
    "\n",
    "After you run the first cell, I suggest commenting it out as you won't need to run it more than once."
   ]
  },
  {
   "cell_type": "code",
   "execution_count": 1,
   "id": "2d71de19-7c3c-4f8f-9811-99b4d907e493",
   "metadata": {},
   "outputs": [],
   "source": [
    "'''\n",
    "!pip install gymnasium gymnasium[classic_control]\n",
    "!wget https://www.usna.edu/Users/cs/SD312/lab/13DeepQ/sampled_states.npy\n",
    "'''"
   ]
  },
  {
   "cell_type": "code",
   "execution_count": 2,
   "id": "bb26dec3-3dec-480b-9494-cf03c765b0ec",
   "metadata": {},
   "outputs": [],
   "source": [
    "import gymnasium as gym\n",
    "import numpy as np\n",
    "import numpy.random\n",
    "import torch\n",
    "import torch.nn as nn\n",
    "import torch.optim as optim\n",
    "from collections import deque, namedtuple\n",
    "import random\n",
    "import plotly.graph_objects as go\n",
    "from tqdm import tqdm"
   ]
  },
  {
   "cell_type": "code",
   "execution_count": 3,
   "id": "d73af61e-b1b3-4dc2-a7f7-42ca085af3c6",
   "metadata": {},
   "outputs": [
    {
     "name": "stdout",
     "output_type": "stream",
     "text": [
      "State space is continuous in 4 dimensions, and there are 2 actions.\n",
      "For example, heres an observation: [-0.00507046  0.01839253  0.00418391 -0.01715007].\n"
     ]
    }
   ],
   "source": [
    "env = gym.make('CartPole-v1')\n",
    "STATE_DIM = env.observation_space.shape[0]\n",
    "N_ACTIONS = env.action_space.n\n",
    "GAMMA = .99\n",
    "\n",
    "print(f'State space is continuous in {STATE_DIM} dimensions, and there are {N_ACTIONS} actions.')\n",
    "\n",
    "obs, info = env.reset()\n",
    "print(f'For example, heres an observation: {obs}.')"
   ]
  },
  {
   "cell_type": "markdown",
   "id": "b7a73682-fe6a-4533-9871-6dfa545cb963",
   "metadata": {
    "jp-MarkdownHeadingCollapsed": true
   },
   "source": [
    "## Hyperparameters\n",
    "\n",
    "We have to decide a few things.\n",
    "- What should $\\epsilon$ be for our $\\epsilon$-greedy exploration policy?\n",
    "- How large should our replay be?\n",
    "- How many datapoints should we pull from our replay to train on at a time (batch size)?\n",
    "- What should our neural network look like? A good first step here is to make sure you understand what the dimensions of the input and output layers need to be - those aren't up to us, they are prescribed by the problem.\n",
    "\n",
    "Choose some values, design your network.\n",
    "\n",
    "Below we've also created a Replay - note that it's essentially a `deque` of limited size.  Make sure you understand that code!  In that replay, we are storing Transitions, each of which consists of a state, an action, a reward, and a next_state.  If the transition represents a failure (pole fell over or cart went off screen), the next_state will be `None`, "
   ]
  },
  {
   "cell_type": "code",
   "execution_count": 4,
   "id": "4a0746df-448d-4194-94ba-738cabef4b12",
   "metadata": {},
   "outputs": [],
   "source": [
    "EPSILON = .1 \n",
    "REPLAY_LENGTH = 10000  \n",
    "BATCH_SIZE = 32\n",
    "LEARNING_RATE = .001"
   ]
  },
  {
   "cell_type": "code",
   "execution_count": 5,
   "id": "b7b6e896-bb5a-4f99-b959-3582bfd63f79",
   "metadata": {},
   "outputs": [],
   "source": [
    "# Define a network and create an instance of it"
   ]
  },
  {
   "cell_type": "code",
   "execution_count": 6,
   "id": "be635599-ed61-4fbf-9b2e-7cb6c142e3cf",
   "metadata": {},
   "outputs": [],
   "source": [
    "Transition = namedtuple('Transition',\n",
    "                        ('state', 'action', 'reward', 'next_state'))\n",
    "\n",
    "class ReplayMemory:\n",
    "\n",
    "    def __init__(self, capacity):\n",
    "        self.memory = deque([], maxlen=capacity)\n",
    "\n",
    "    def push(self, s, a, r, sp):\n",
    "        \"\"\"Save a transition\"\"\"\n",
    "        s = torch.tensor(s, dtype=torch.float32)\n",
    "        a = torch.tensor([a], dtype=torch.int64)\n",
    "        r = torch.tensor([r], dtype=torch.float32)\n",
    "        if sp is not None:\n",
    "            sp = torch.tensor(sp, dtype=torch.float32)\n",
    "        self.memory.append(Transition(s,a,r,sp))\n",
    "\n",
    "    def sample(self, batch_size):\n",
    "        return random.sample(self.memory, batch_size)\n",
    "\n",
    "    def __len__(self):\n",
    "        return len(self.memory)\n",
    "\n",
    "memory=ReplayMemory(REPLAY_LENGTH) # ALGORITHM 1: Initialize replay memory D to capacity N\n",
    "\n",
    "class QNetwork(nn.Module):\n",
    "    def __init__(self, inputDim, outputDim):\n",
    "        super(QNetwork, self).__init__()\n",
    "        self.fc1 = nn.Linear(inputDim, 32) # 4 by 32\n",
    "        self.fc2 = nn.Linear(32, 64)\n",
    "        self.fc3 = nn.Linear(64, 128)\n",
    "        self.fc4 = nn.Linear(128, 32) # Prevents overfitting\n",
    "        self.fc5 = nn.Linear(32, outputDim) #32 by 2\n",
    "\n",
    "    def forward(self, x):\n",
    "        x = torch.relu(self.fc1(x))\n",
    "        x = torch.relu(self.fc2(x))\n",
    "        x = torch.relu(self.fc3(x))\n",
    "        x = torch.relu(self.fc4(x))\n",
    "        return self.fc5(x)\n",
    "    \n",
    "network = QNetwork(STATE_DIM, N_ACTIONS).to('cuda') # ALGORITHM 1: Initialize action-value function Q with random weights"
   ]
  },
  {
   "cell_type": "markdown",
   "id": "4ffd8295-89f0-4c5a-b1e6-31ea14c62b24",
   "metadata": {},
   "source": [
    "## Policies!\n",
    "\n",
    "The below functions define a greedy policy, an $\\epsilon$-greedy policy, and a random policy."
   ]
  },
  {
   "cell_type": "code",
   "execution_count": 7,
   "id": "786427bb-4ed5-48f2-bf1a-6b44157d16c6",
   "metadata": {},
   "outputs": [],
   "source": [
    "def greedy_policy(network, states):\n",
    "    '''\n",
    "    Returns a tuple\n",
    "    index 0 contains the Q-value of the best action for all states\n",
    "    index 1 contains the index of the best action for all states\n",
    "    '''\n",
    "    with torch.no_grad():\n",
    "        qs = network(states) # Get the q-values\n",
    "        if qs.dim() == 1:   # If it's just a single state\n",
    "            return torch.max(qs, dim=0) # Return the tuple of max info for that state\n",
    "        return torch.max(qs, dim=1) # Return the tuple of max information for all states\n",
    "\n",
    "def epsilon_greedy(network, state):\n",
    "    '''\n",
    "    Returns an action selected via epsilon-greedy\n",
    "    '''\n",
    "    if numpy.random.random() < EPSILON:\n",
    "        return numpy.random.randint(N_ACTIONS)\n",
    "    else:\n",
    "        return greedy_policy(network, torch.tensor(state).to('cuda'))[1].item()\n",
    "\n",
    "def random_policy():\n",
    "    '''\n",
    "    Chooses a random action.\n",
    "    '''\n",
    "    return numpy.random.randint(N_ACTIONS)"
   ]
  },
  {
   "cell_type": "markdown",
   "id": "68d230fe-2ce5-4aff-b753-2ca84d70dca1",
   "metadata": {},
   "source": [
    "## Random performance\n",
    "\n",
    "100 times, reset the environment and run it until truncation or termination, using a random policy.  Print out the average number of steps a random policy keeps the pole upright."
   ]
  },
  {
   "cell_type": "code",
   "execution_count": 8,
   "id": "3924a425-9df7-4b16-9b3e-8a67799d11f3",
   "metadata": {},
   "outputs": [
    {
     "name": "stdout",
     "output_type": "stream",
     "text": [
      "Average number of steps: 19.53\n"
     ]
    }
   ],
   "source": [
    "def random_policy_performance():\n",
    "    total_steps = 0\n",
    "    \n",
    "    for _ in range(100):\n",
    "        obs, info = env.reset()\n",
    "        terminated = False\n",
    "        steps = 0\n",
    "        \n",
    "        while not terminated:\n",
    "            action = random_policy()\n",
    "            obs, reward, terminated, truncated, info = env.step(action)\n",
    "            steps += 1\n",
    "            if truncated:\n",
    "                break\n",
    "        \n",
    "        total_steps += steps\n",
    "    \n",
    "    average_steps = total_steps / 100\n",
    "    print(f'Average number of steps: {average_steps}')\n",
    "    \n",
    "random_policy_performance()"
   ]
  },
  {
   "cell_type": "markdown",
   "id": "49bf29a2-353b-47c1-9a08-109c9cb8541a",
   "metadata": {},
   "source": [
    "## Evaluating training\n",
    "\n",
    "We're going to reproduce the graphs on the right-hand side of Figure 2 in the paper in order to judge the smoothness of our training.  Create a function called `avg_qs`, which accepts as arguments your network and a tensor representing a group of states, which you should load from `sampled_states.npy`.  It should then do the following:\n",
    "\n",
    "- in a `with torch.no_grad()` block, push the states through the network, producing some approximate Q-values\n",
    "- calculate the maximum Q-value for each state\n",
    "- average those maximum Q-values over all the states, resulting in a single scalar\n",
    "- return that scalar (which should just be a number, not a tensor or numpy array - recall you can pull out the value from a tensor by using `.item()`.)"
   ]
  },
  {
   "cell_type": "code",
   "execution_count": 9,
   "id": "8641e204-5025-447b-9dc9-f60737c676c9",
   "metadata": {},
   "outputs": [],
   "source": [
    "sampled_states = torch.tensor(np.load('sampled_states.npy'), dtype=torch.float32).to('cuda')\n",
    "\n",
    "def avg_qs(network, states):\n",
    "    with torch.no_grad():\n",
    "        q = network(states)\n",
    "        max_q, _ = torch.max(q, dim=1)\n",
    "        return max_q.mean().item()\n"
   ]
  },
  {
   "cell_type": "markdown",
   "id": "12154488-4bde-43b4-9140-7c9184373620",
   "metadata": {},
   "source": [
    "## Training your network\n",
    "\n",
    "- Create an optimizer\n",
    "- Choose a criterion\n",
    "- Understand, then complete, this `train_model()` function, which implements the steps in Algorithm 1 from the word \"Sample\" to the mention of equation 3.\n",
    "\n",
    "The initial steps in `train_model()` pull out the states, actions, and rewards from the batch, and turn them into cuda torch tensors.  `actual_next_mask` is the indices of the transitions in the batch that actually have a next state (ie, they don't represent a failure state, or in the parlance of the paper, are \"non-terminal\").  `next_states` is the torch tensor of all the next states for the non-terminal transitions."
   ]
  },
  {
   "cell_type": "code",
   "execution_count": 10,
   "id": "16a7b213-f391-4b07-a141-0aa3d521098b",
   "metadata": {},
   "outputs": [],
   "source": [
    "optimizer = optim.Adam(network.parameters(), lr=LEARNING_RATE)\n",
    "criterion = nn.MSELoss()\n",
    "\n",
    "def train_model():\n",
    "    if len(memory) < BATCH_SIZE:\n",
    "        return\n",
    "\n",
    "    transitions = memory.sample(BATCH_SIZE) # ALGORITHM 1: Sample random minibatch of transitions (φj , aj , rj , φj+1) from D\n",
    "\n",
    "    # Extract tensors for states, actions, rewards, and next_states\n",
    "    states = torch.cat([t.state.unsqueeze(0) for t in transitions], dim=0).to('cuda')\n",
    "    actions = torch.cat([t.action.unsqueeze(0) for t in transitions], dim=0).to('cuda')\n",
    "    rewards = torch.cat([t.reward.unsqueeze(0) for t in transitions], dim=0).to('cuda')\n",
    "    actual_next_mask = [i for i in range(BATCH_SIZE) if transitions[i].next_state is not None]\n",
    "    next_states = torch.cat([transition.next_state.unsqueeze(0) for transition in transitions if transition.next_state is not None], dim=0).to('cuda') \n",
    "    \n",
    "    next_q = network(next_states)  # Get Q-values for the next state\n",
    "    \n",
    "    max_next_q, _ = torch.max(next_q, dim=1)  # Max Q-value for each next_state\n",
    "    max_next_q = max_next_q.unsqueeze(1)  # [29, 1]\n",
    "\n",
    "    # ALGORITHM 1: Update rewards for non-terminal states and keep reward for terminal states.\n",
    "    rewards[actual_next_mask] += GAMMA * max_next_q # max_next_q would be 0 for terminal states\n",
    "    \n",
    "    # Calculate Q-values for the selected actions in the batch\n",
    "    q = network(states).gather(1, actions.view(-1, 1))\n",
    " \n",
    "    # Compute loss (mean squared error between predicted and target Q-values)\n",
    "    loss = criterion(q.squeeze(), rewards.squeeze())\n",
    "\n",
    "    # ALGORITHM 1: Perform a gradient descent step according to equation 3\n",
    "    optimizer.zero_grad()\n",
    "    loss.backward()\n",
    "    optimizer.step()"
   ]
  },
  {
   "cell_type": "markdown",
   "id": "fa384956-cf61-4a5c-a27e-d286d88ef885",
   "metadata": {},
   "source": [
    "## Create your samples, and call the training function\n",
    "\n",
    "Implement the rest of Algorithm 1, calling your `train_model()` function where appropriate.\n",
    "\n",
    "If the transition is terminal, the next_state should be `None`."
   ]
  },
  {
   "cell_type": "code",
   "execution_count": 11,
   "id": "936d4085-cda3-4a91-894b-ff46ad9697ff",
   "metadata": {},
   "outputs": [
    {
     "name": "stdout",
     "output_type": "stream",
     "text": [
      "Episode 0, Total Reward: 11.0, Average Action Value 0.0026641408912837505\n",
      "Episode 10, Total Reward: 9.0, Average Action Value 3.7705371379852295\n",
      "Episode 20, Total Reward: 76.0, Average Action Value 8.5397310256958\n",
      "Episode 30, Total Reward: 92.0, Average Action Value 10.10437297821045\n",
      "Episode 40, Total Reward: 69.0, Average Action Value 13.842369079589844\n",
      "Episode 50, Total Reward: 68.0, Average Action Value 15.014334678649902\n",
      "Episode 60, Total Reward: 210.0, Average Action Value 26.11549186706543\n",
      "Episode 70, Total Reward: 169.0, Average Action Value 28.02545928955078\n",
      "Episode 80, Total Reward: 150.0, Average Action Value 28.976728439331055\n",
      "Episode 90, Total Reward: 208.0, Average Action Value 28.65618324279785\n",
      "Episode 100, Total Reward: 377.0, Average Action Value 48.51279067993164\n",
      "Episode 110, Total Reward: 305.0, Average Action Value 36.394649505615234\n",
      "Episode 120, Total Reward: 267.0, Average Action Value 39.58774185180664\n",
      "Episode 130, Total Reward: 295.0, Average Action Value 46.5761604309082\n",
      "Episode 140, Total Reward: 307.0, Average Action Value 49.333953857421875\n",
      "Episode 150, Total Reward: 491.0, Average Action Value 52.34376907348633\n",
      "Episode 160, Total Reward: 5493.0, Average Action Value 96.78527069091797\n",
      "Episode 170, Total Reward: 37.0, Average Action Value 40.43844985961914\n",
      "Episode 180, Total Reward: 479.0, Average Action Value 96.2782974243164\n",
      "Episode 190, Total Reward: 303.0, Average Action Value 44.486351013183594\n",
      "Episode 200, Total Reward: 398.0, Average Action Value 52.30988311767578\n",
      "Episode 210, Total Reward: 1459.0, Average Action Value 34.56101989746094\n",
      "Episode 220, Total Reward: 181.0, Average Action Value 54.97557067871094\n",
      "Episode 230, Total Reward: 532.0, Average Action Value 50.695858001708984\n",
      "Episode 240, Total Reward: 665.0, Average Action Value 60.295654296875\n"
     ]
    }
   ],
   "source": [
    "average_q_values = []\n",
    "\n",
    "def train(num_episodes):\n",
    "    best = float('-inf')\n",
    "    for episode in range(num_episodes):  # ALGORITHM 1: for episode = 1, M do\n",
    "        state, _ = env.reset()  # ALGORITHM 1: Initialize sequence s1 = {x1}\n",
    "        terminated = False\n",
    "        truncated = False\n",
    "        total_reward = 0\n",
    "\n",
    "        while not terminated: # ALGORITHM: for t= 1, T do\n",
    "            # Change Epsilon - explore the state space aggresively (randomly) then shift to .05 to train on machine policy.\n",
    "            if episode < num_episodes/4:\n",
    "                EPSILON = 1\n",
    "            else:\n",
    "                EPSILON = .05\n",
    "                \n",
    "            action = epsilon_greedy(network, state)  # ALGORITHM 1: With probability epsilon select a random act aT otherwise select aT = maxa Q∗(φ(st), a; θ)\n",
    "            next_state, reward, terminated, truncated, _ = env.step(action)  # ALGORITHM 1: Execute action at in emulator and observe reward and next_state\n",
    "\n",
    "            # ALGORITHM 1: Store transition in replay memory\n",
    "            memory.push(state, action, reward, next_state if not terminated else None) # ALGORITHM 1: Store transition (φt, at, rt, φt+1) in D\n",
    "\n",
    "            # Train the model\n",
    "            train_model()\n",
    "\n",
    "            # Update state and  total reward\n",
    "            state = next_state\n",
    "            total_reward += reward\n",
    "        \n",
    "        q_max = avg_qs(network, sampled_states)\n",
    "        average_q_values.append(q_max)\n",
    "        \n",
    "        if(best < q_max):\n",
    "            best = q_max\n",
    "            torch.save(network,\"BestModel\")\n",
    "            \n",
    "        if episode % 10 == 0:\n",
    "            print(f\"Episode {episode}, Total Reward: {total_reward}, Average Action Value {q_max}\")\n",
    "        \n",
    "train(250)"
   ]
  },
  {
   "cell_type": "markdown",
   "id": "72e0afce-39ef-4cdd-b50e-4899c41c2571",
   "metadata": {},
   "source": [
    "## Evaluating the smoothness of your training\n",
    "\n",
    "In the above training loop, keep track of the average maximum Q values for the `sampled_states` you loaded above.  Make a plot displaying the average Q values of the sampled states over time."
   ]
  },
  {
   "cell_type": "code",
   "execution_count": 12,
   "id": "f4319889-bc22-40bb-b85c-2b7835cf4b18",
   "metadata": {},
   "outputs": [
    {
     "data": {
      "image/png": "[encoded data removed]",
      "text/plain": [
       "<Figure size 640x480 with 1 Axes>"
      ]
     },
     "metadata": {},
     "output_type": "display_data"
    }
   ],
   "source": [
    "import matplotlib.pyplot as plt\n",
    "plt.plot(average_q_values)\n",
    "plt.xlabel('Training Epochs')\n",
    "plt.ylabel('Average Action Value (Q)')\n",
    "plt.title('Average Q')\n",
    "plt.show()"
   ]
  },
  {
   "cell_type": "markdown",
   "id": "7c003fb6-e040-4817-8076-303b52c9a742",
   "metadata": {},
   "source": [
    "## Evaluating your model's performance\n",
    "\n",
    "1000 times, use a greedy policy based off your model to run until termination or truncation.  Keep track of the number of steps that pass on each run before it stops (each trial will run a maximum of 500 steps before truncation - of course, it may terminate sooner if the pole falls or the cart goes off the screen).  Print out that average."
   ]
  },
  {
   "cell_type": "code",
   "execution_count": 13,
   "id": "6c75b71e-17fb-49f8-b30a-b39292c9bf8b",
   "metadata": {},
   "outputs": [
    {
     "name": "stdout",
     "output_type": "stream",
     "text": [
      "Average steps per episode: 500.0\n"
     ]
    }
   ],
   "source": [
    "network = torch.load(\"BestModel\")\n",
    "def evaluate_model(num_episodes, max_steps):\n",
    "    total_steps = 0\n",
    "\n",
    "    for episode in range(num_episodes):\n",
    "        state, _ = env.reset()  # Reset the environment\n",
    "        terminated = False\n",
    "        truncated = False\n",
    "        steps = 0\n",
    "\n",
    "        while not terminated and steps < max_steps and not truncated:\n",
    "            state_tensor = torch.tensor(state, dtype=torch.float32).unsqueeze(0).to('cuda')\n",
    "            \n",
    "            # Get the action recommended by the model\n",
    "            action = greedy_policy(network, state_tensor)[1].item()\n",
    "\n",
    "            # Take the action in the environment\n",
    "            next_state, reward, terminated, truncated, _ = env.step(action)\n",
    "            \n",
    "            # Update the state and stepcount\n",
    "            state = next_state\n",
    "            steps += 1\n",
    "        \n",
    "        total_steps += steps\n",
    "    \n",
    "    average_steps = total_steps / num_episodes\n",
    "    print(f\"Average steps per episode: {average_steps}\")\n",
    "\n",
    "evaluate_model(1000, 500)"
   ]
  },
  {
   "cell_type": "markdown",
   "id": "4f118784",
   "metadata": {},
   "source": [
    "The largest change I made was REPLAY_LENGTH = 1000 to REPLAY_LENGTH = 10000.\n",
    "Epsilon adjustments from 1 for the first quarter of the episodes then shift to .05 per something similar the paper does.\n",
    "Implemented saving best Average Action Value model."
   ]
  },
  {
   "cell_type": "markdown",
   "id": "b2a24fe0",
   "metadata": {},
   "source": [
    "Max average step side per episode for this problem is 500 so this model reaches the optimal solution."
   ]
  }
 ],
 "metadata": {
  "kernelspec": {
   "display_name": "conda_pytorch_p310",
   "language": "python",
   "name": "conda_pytorch_p310"
  },
  "language_info": {
   "codemirror_mode": {
    "name": "ipython",
    "version": 3
   },
   "file_extension": ".py",
   "mimetype": "text/x-python",
   "name": "python",
   "nbconvert_exporter": "python",
   "pygments_lexer": "ipython3",
   "version": "3.10.14"
  }
 },
 "nbformat": 4,
 "nbformat_minor": 5
}
